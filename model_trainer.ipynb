{
 "cells": [
  {
   "cell_type": "code",
   "execution_count": 1,
   "metadata": {},
   "outputs": [],
   "source": [
    "import pandas as pd\n",
    "import numpy as np\n",
    "import pickle\n",
    "import lightgbm as lgb\n",
    "from sklearn import  preprocessing,metrics\n",
    "from sklearn.model_selection import train_test_split"
   ]
  },
  {
   "cell_type": "code",
   "execution_count": 2,
   "metadata": {},
   "outputs": [
    {
     "output_type": "execute_result",
     "data": {
      "text/plain": [
       "                 client_id  avg_session_duration            browser  \\\n",
       "0   GA889580594.1590808701            158.000000  Internet Explorer   \n",
       "1   GA616880682.1596545776              7.000000             Chrome   \n",
       "2   GA946056279.1598894360            261.333333             Chrome   \n",
       "3   GA609176977.1586186638            126.384615             Chrome   \n",
       "4  GA1964696600.1602347357             79.000000             Chrome   \n",
       "\n",
       "  browser_version                campaign  hits  day_of_week  day  \\\n",
       "0            11.0                   Other    18            5   29   \n",
       "1     79.0.3945.0                   Other     7            2    4   \n",
       "2   84.0.4147.135                   Other   103            4   31   \n",
       "3    83.0.4103.96  Shoes Sale-Display Ads    42            6   30   \n",
       "4   85.0.4183.127                   Other    13            6   10   \n",
       "\n",
       "  device_category  entrances  ...  page_depth  page_views  \\\n",
       "0          tablet          1  ...          18          18   \n",
       "1         desktop          1  ...           3           3   \n",
       "2         desktop          3  ...          66         102   \n",
       "3          mobile         13  ...           6          42   \n",
       "4          tablet          1  ...          13          13   \n",
       "\n",
       "   page_views_per_session  sessions social_network  events  unique_events  \\\n",
       "0               18.000000         1          Other       1              1   \n",
       "1                3.000000         1          Other       1              1   \n",
       "2               34.000000         3          Other       1              1   \n",
       "3                3.230769        13          Other       1              1   \n",
       "4               13.000000         1          Other       1              1   \n",
       "\n",
       "   week  shopping_stage frequency  \n",
       "0    22          Window         2  \n",
       "1    32          Window         3  \n",
       "2    36          Window         2  \n",
       "3    27          Window         2  \n",
       "4    41          Window         2  \n",
       "\n",
       "[5 rows x 25 columns]"
      ],
      "text/html": "<div>\n<style scoped>\n    .dataframe tbody tr th:only-of-type {\n        vertical-align: middle;\n    }\n\n    .dataframe tbody tr th {\n        vertical-align: top;\n    }\n\n    .dataframe thead th {\n        text-align: right;\n    }\n</style>\n<table border=\"1\" class=\"dataframe\">\n  <thead>\n    <tr style=\"text-align: right;\">\n      <th></th>\n      <th>client_id</th>\n      <th>avg_session_duration</th>\n      <th>browser</th>\n      <th>browser_version</th>\n      <th>campaign</th>\n      <th>hits</th>\n      <th>day_of_week</th>\n      <th>day</th>\n      <th>device_category</th>\n      <th>entrances</th>\n      <th>...</th>\n      <th>page_depth</th>\n      <th>page_views</th>\n      <th>page_views_per_session</th>\n      <th>sessions</th>\n      <th>social_network</th>\n      <th>events</th>\n      <th>unique_events</th>\n      <th>week</th>\n      <th>shopping_stage</th>\n      <th>frequency</th>\n    </tr>\n  </thead>\n  <tbody>\n    <tr>\n      <th>0</th>\n      <td>GA889580594.1590808701</td>\n      <td>158.000000</td>\n      <td>Internet Explorer</td>\n      <td>11.0</td>\n      <td>Other</td>\n      <td>18</td>\n      <td>5</td>\n      <td>29</td>\n      <td>tablet</td>\n      <td>1</td>\n      <td>...</td>\n      <td>18</td>\n      <td>18</td>\n      <td>18.000000</td>\n      <td>1</td>\n      <td>Other</td>\n      <td>1</td>\n      <td>1</td>\n      <td>22</td>\n      <td>Window</td>\n      <td>2</td>\n    </tr>\n    <tr>\n      <th>1</th>\n      <td>GA616880682.1596545776</td>\n      <td>7.000000</td>\n      <td>Chrome</td>\n      <td>79.0.3945.0</td>\n      <td>Other</td>\n      <td>7</td>\n      <td>2</td>\n      <td>4</td>\n      <td>desktop</td>\n      <td>1</td>\n      <td>...</td>\n      <td>3</td>\n      <td>3</td>\n      <td>3.000000</td>\n      <td>1</td>\n      <td>Other</td>\n      <td>1</td>\n      <td>1</td>\n      <td>32</td>\n      <td>Window</td>\n      <td>3</td>\n    </tr>\n    <tr>\n      <th>2</th>\n      <td>GA946056279.1598894360</td>\n      <td>261.333333</td>\n      <td>Chrome</td>\n      <td>84.0.4147.135</td>\n      <td>Other</td>\n      <td>103</td>\n      <td>4</td>\n      <td>31</td>\n      <td>desktop</td>\n      <td>3</td>\n      <td>...</td>\n      <td>66</td>\n      <td>102</td>\n      <td>34.000000</td>\n      <td>3</td>\n      <td>Other</td>\n      <td>1</td>\n      <td>1</td>\n      <td>36</td>\n      <td>Window</td>\n      <td>2</td>\n    </tr>\n    <tr>\n      <th>3</th>\n      <td>GA609176977.1586186638</td>\n      <td>126.384615</td>\n      <td>Chrome</td>\n      <td>83.0.4103.96</td>\n      <td>Shoes Sale-Display Ads</td>\n      <td>42</td>\n      <td>6</td>\n      <td>30</td>\n      <td>mobile</td>\n      <td>13</td>\n      <td>...</td>\n      <td>6</td>\n      <td>42</td>\n      <td>3.230769</td>\n      <td>13</td>\n      <td>Other</td>\n      <td>1</td>\n      <td>1</td>\n      <td>27</td>\n      <td>Window</td>\n      <td>2</td>\n    </tr>\n    <tr>\n      <th>4</th>\n      <td>GA1964696600.1602347357</td>\n      <td>79.000000</td>\n      <td>Chrome</td>\n      <td>85.0.4183.127</td>\n      <td>Other</td>\n      <td>13</td>\n      <td>6</td>\n      <td>10</td>\n      <td>tablet</td>\n      <td>1</td>\n      <td>...</td>\n      <td>13</td>\n      <td>13</td>\n      <td>13.000000</td>\n      <td>1</td>\n      <td>Other</td>\n      <td>1</td>\n      <td>1</td>\n      <td>41</td>\n      <td>Window</td>\n      <td>2</td>\n    </tr>\n  </tbody>\n</table>\n<p>5 rows × 25 columns</p>\n</div>"
     },
     "metadata": {},
     "execution_count": 2
    }
   ],
   "source": [
    "df = pd.read_csv('classification_data.csv')\n",
    "df.head()"
   ]
  },
  {
   "cell_type": "code",
   "execution_count": 3,
   "metadata": {},
   "outputs": [],
   "source": [
    "# PRE-PROCESSING THE DATA, ENCODING AND SPLITTING IT\n",
    "df = df.drop(['client_id','browser','browser_version','os'],axis = 1)\n",
    "le_campaign = preprocessing.LabelEncoder()\n",
    "df['campaign'] = le_campaign.fit_transform(df['campaign'])\n",
    "le_device_category = preprocessing.LabelEncoder()\n",
    "df['device_category'] = le_device_category.fit_transform(df['device_category'])\n",
    "le_social_network = preprocessing.LabelEncoder()\n",
    "df['social_network'] = le_social_network.fit_transform(df['social_network'])\n",
    "le_shopping_stage = preprocessing.LabelEncoder()\n",
    "df['shopping_stage'] = le_shopping_stage.fit_transform(df['shopping_stage'])"
   ]
  },
  {
   "cell_type": "code",
   "execution_count": 4,
   "metadata": {},
   "outputs": [
    {
     "output_type": "execute_result",
     "data": {
      "text/plain": [
       "       avg_session_duration  campaign  hits  day_of_week  day  \\\n",
       "0                158.000000         5    18            5   29   \n",
       "1                  7.000000         5     7            2    4   \n",
       "2                261.333333         5   103            4   31   \n",
       "3                126.384615         7    42            6   30   \n",
       "4                 79.000000         5    13            6   10   \n",
       "...                     ...       ...   ...          ...  ...   \n",
       "98069            114.000000         2    31            5   24   \n",
       "98070              9.000000         4     3            1   15   \n",
       "98071            473.500000         5    31            2   25   \n",
       "98072              2.000000         5     6            0   30   \n",
       "98073              1.000000         5     3            2   25   \n",
       "\n",
       "       device_category  entrances  events_per_session  exits  hour  ...  \\\n",
       "0                    2          1                 0.0      1    20  ...   \n",
       "1                    0          1                 1.0      1     5  ...   \n",
       "2                    0          3                 1.0      3    14  ...   \n",
       "3                    1         13                 0.0     13    23  ...   \n",
       "4                    2          1                 0.0      1     7  ...   \n",
       "...                ...        ...                 ...    ...   ...  ...   \n",
       "98069                0          1                 3.0      1    17  ...   \n",
       "98070                1          1                 0.0      1     4  ...   \n",
       "98071                1          2                 3.0      2    20  ...   \n",
       "98072                1          2                 0.0      2    20  ...   \n",
       "98073                0          1                 0.0      1    10  ...   \n",
       "\n",
       "       page_depth  page_views  page_views_per_session  sessions  \\\n",
       "0              18          18               18.000000         1   \n",
       "1               3           3                3.000000         1   \n",
       "2              66         102               34.000000         3   \n",
       "3               6          42                3.230769        13   \n",
       "4              13          13               13.000000         1   \n",
       "...           ...         ...                     ...       ...   \n",
       "98069          28          28               28.000000         1   \n",
       "98070           3           3                3.000000         1   \n",
       "98071          27          28               14.000000         2   \n",
       "98072           3           6                3.000000         2   \n",
       "98073           3           3                3.000000         1   \n",
       "\n",
       "       social_network  events  unique_events  week  shopping_stage  frequency  \n",
       "0                   4       1              1    22               2          2  \n",
       "1                   4       1              1    32               2          3  \n",
       "2                   4       1              1    36               2          2  \n",
       "3                   4       1              1    27               2          2  \n",
       "4                   4       1              1    41               2          2  \n",
       "...               ...     ...            ...   ...             ...        ...  \n",
       "98069               4       3              3    30               2          2  \n",
       "98070               4       1              1    25               2          2  \n",
       "98071               4       3              2    35               2          2  \n",
       "98072               4       1              1    36               2          2  \n",
       "98073               4       1              1    35               2          2  \n",
       "\n",
       "[98074 rows x 21 columns]"
      ],
      "text/html": "<div>\n<style scoped>\n    .dataframe tbody tr th:only-of-type {\n        vertical-align: middle;\n    }\n\n    .dataframe tbody tr th {\n        vertical-align: top;\n    }\n\n    .dataframe thead th {\n        text-align: right;\n    }\n</style>\n<table border=\"1\" class=\"dataframe\">\n  <thead>\n    <tr style=\"text-align: right;\">\n      <th></th>\n      <th>avg_session_duration</th>\n      <th>campaign</th>\n      <th>hits</th>\n      <th>day_of_week</th>\n      <th>day</th>\n      <th>device_category</th>\n      <th>entrances</th>\n      <th>events_per_session</th>\n      <th>exits</th>\n      <th>hour</th>\n      <th>...</th>\n      <th>page_depth</th>\n      <th>page_views</th>\n      <th>page_views_per_session</th>\n      <th>sessions</th>\n      <th>social_network</th>\n      <th>events</th>\n      <th>unique_events</th>\n      <th>week</th>\n      <th>shopping_stage</th>\n      <th>frequency</th>\n    </tr>\n  </thead>\n  <tbody>\n    <tr>\n      <th>0</th>\n      <td>158.000000</td>\n      <td>5</td>\n      <td>18</td>\n      <td>5</td>\n      <td>29</td>\n      <td>2</td>\n      <td>1</td>\n      <td>0.0</td>\n      <td>1</td>\n      <td>20</td>\n      <td>...</td>\n      <td>18</td>\n      <td>18</td>\n      <td>18.000000</td>\n      <td>1</td>\n      <td>4</td>\n      <td>1</td>\n      <td>1</td>\n      <td>22</td>\n      <td>2</td>\n      <td>2</td>\n    </tr>\n    <tr>\n      <th>1</th>\n      <td>7.000000</td>\n      <td>5</td>\n      <td>7</td>\n      <td>2</td>\n      <td>4</td>\n      <td>0</td>\n      <td>1</td>\n      <td>1.0</td>\n      <td>1</td>\n      <td>5</td>\n      <td>...</td>\n      <td>3</td>\n      <td>3</td>\n      <td>3.000000</td>\n      <td>1</td>\n      <td>4</td>\n      <td>1</td>\n      <td>1</td>\n      <td>32</td>\n      <td>2</td>\n      <td>3</td>\n    </tr>\n    <tr>\n      <th>2</th>\n      <td>261.333333</td>\n      <td>5</td>\n      <td>103</td>\n      <td>4</td>\n      <td>31</td>\n      <td>0</td>\n      <td>3</td>\n      <td>1.0</td>\n      <td>3</td>\n      <td>14</td>\n      <td>...</td>\n      <td>66</td>\n      <td>102</td>\n      <td>34.000000</td>\n      <td>3</td>\n      <td>4</td>\n      <td>1</td>\n      <td>1</td>\n      <td>36</td>\n      <td>2</td>\n      <td>2</td>\n    </tr>\n    <tr>\n      <th>3</th>\n      <td>126.384615</td>\n      <td>7</td>\n      <td>42</td>\n      <td>6</td>\n      <td>30</td>\n      <td>1</td>\n      <td>13</td>\n      <td>0.0</td>\n      <td>13</td>\n      <td>23</td>\n      <td>...</td>\n      <td>6</td>\n      <td>42</td>\n      <td>3.230769</td>\n      <td>13</td>\n      <td>4</td>\n      <td>1</td>\n      <td>1</td>\n      <td>27</td>\n      <td>2</td>\n      <td>2</td>\n    </tr>\n    <tr>\n      <th>4</th>\n      <td>79.000000</td>\n      <td>5</td>\n      <td>13</td>\n      <td>6</td>\n      <td>10</td>\n      <td>2</td>\n      <td>1</td>\n      <td>0.0</td>\n      <td>1</td>\n      <td>7</td>\n      <td>...</td>\n      <td>13</td>\n      <td>13</td>\n      <td>13.000000</td>\n      <td>1</td>\n      <td>4</td>\n      <td>1</td>\n      <td>1</td>\n      <td>41</td>\n      <td>2</td>\n      <td>2</td>\n    </tr>\n    <tr>\n      <th>...</th>\n      <td>...</td>\n      <td>...</td>\n      <td>...</td>\n      <td>...</td>\n      <td>...</td>\n      <td>...</td>\n      <td>...</td>\n      <td>...</td>\n      <td>...</td>\n      <td>...</td>\n      <td>...</td>\n      <td>...</td>\n      <td>...</td>\n      <td>...</td>\n      <td>...</td>\n      <td>...</td>\n      <td>...</td>\n      <td>...</td>\n      <td>...</td>\n      <td>...</td>\n      <td>...</td>\n    </tr>\n    <tr>\n      <th>98069</th>\n      <td>114.000000</td>\n      <td>2</td>\n      <td>31</td>\n      <td>5</td>\n      <td>24</td>\n      <td>0</td>\n      <td>1</td>\n      <td>3.0</td>\n      <td>1</td>\n      <td>17</td>\n      <td>...</td>\n      <td>28</td>\n      <td>28</td>\n      <td>28.000000</td>\n      <td>1</td>\n      <td>4</td>\n      <td>3</td>\n      <td>3</td>\n      <td>30</td>\n      <td>2</td>\n      <td>2</td>\n    </tr>\n    <tr>\n      <th>98070</th>\n      <td>9.000000</td>\n      <td>4</td>\n      <td>3</td>\n      <td>1</td>\n      <td>15</td>\n      <td>1</td>\n      <td>1</td>\n      <td>0.0</td>\n      <td>1</td>\n      <td>4</td>\n      <td>...</td>\n      <td>3</td>\n      <td>3</td>\n      <td>3.000000</td>\n      <td>1</td>\n      <td>4</td>\n      <td>1</td>\n      <td>1</td>\n      <td>25</td>\n      <td>2</td>\n      <td>2</td>\n    </tr>\n    <tr>\n      <th>98071</th>\n      <td>473.500000</td>\n      <td>5</td>\n      <td>31</td>\n      <td>2</td>\n      <td>25</td>\n      <td>1</td>\n      <td>2</td>\n      <td>3.0</td>\n      <td>2</td>\n      <td>20</td>\n      <td>...</td>\n      <td>27</td>\n      <td>28</td>\n      <td>14.000000</td>\n      <td>2</td>\n      <td>4</td>\n      <td>3</td>\n      <td>2</td>\n      <td>35</td>\n      <td>2</td>\n      <td>2</td>\n    </tr>\n    <tr>\n      <th>98072</th>\n      <td>2.000000</td>\n      <td>5</td>\n      <td>6</td>\n      <td>0</td>\n      <td>30</td>\n      <td>1</td>\n      <td>2</td>\n      <td>0.0</td>\n      <td>2</td>\n      <td>20</td>\n      <td>...</td>\n      <td>3</td>\n      <td>6</td>\n      <td>3.000000</td>\n      <td>2</td>\n      <td>4</td>\n      <td>1</td>\n      <td>1</td>\n      <td>36</td>\n      <td>2</td>\n      <td>2</td>\n    </tr>\n    <tr>\n      <th>98073</th>\n      <td>1.000000</td>\n      <td>5</td>\n      <td>3</td>\n      <td>2</td>\n      <td>25</td>\n      <td>0</td>\n      <td>1</td>\n      <td>0.0</td>\n      <td>1</td>\n      <td>10</td>\n      <td>...</td>\n      <td>3</td>\n      <td>3</td>\n      <td>3.000000</td>\n      <td>1</td>\n      <td>4</td>\n      <td>1</td>\n      <td>1</td>\n      <td>35</td>\n      <td>2</td>\n      <td>2</td>\n    </tr>\n  </tbody>\n</table>\n<p>98074 rows × 21 columns</p>\n</div>"
     },
     "metadata": {},
     "execution_count": 4
    }
   ],
   "source": [
    "df"
   ]
  },
  {
   "cell_type": "code",
   "execution_count": 5,
   "metadata": {},
   "outputs": [],
   "source": [
    "y = df['shopping_stage']\n",
    "X = df.drop(['shopping_stage'],axis = 1)\n",
    "X_train, X_test, y_train, y_test = train_test_split(X, y, test_size=0.33, random_state=42)"
   ]
  },
  {
   "cell_type": "code",
   "execution_count": 6,
   "metadata": {},
   "outputs": [
    {
     "output_type": "execute_result",
     "data": {
      "text/plain": [
       "LGBMClassifier()"
      ]
     },
     "metadata": {},
     "execution_count": 6
    }
   ],
   "source": [
    "model = lgb.LGBMClassifier()\n",
    "model.fit(X_train, y_train)"
   ]
  },
  {
   "cell_type": "code",
   "execution_count": 7,
   "metadata": {},
   "outputs": [
    {
     "output_type": "stream",
     "name": "stdout",
     "text": [
      "0.9999691024254596\n"
     ]
    }
   ],
   "source": [
    "preds = model.predict(X_test)\n",
    "print(metrics.accuracy_score(y_test, preds))"
   ]
  },
  {
   "cell_type": "code",
   "execution_count": 8,
   "metadata": {},
   "outputs": [],
   "source": [
    "pickle.dump(model, open(\"model.pickle.dat\", \"wb\"))"
   ]
  },
  {
   "cell_type": "code",
   "execution_count": 9,
   "metadata": {},
   "outputs": [],
   "source": [
    "np.save('campaign.npy', le_campaign.classes_)\n",
    "np.save('device_category.npy', le_device_category.classes_)\n",
    "np.save('social_network.npy', le_social_network.classes_)\n",
    "np.save('shopping_stage.npy', le_shopping_stage.classes_)"
   ]
  },
  {
   "cell_type": "code",
   "execution_count": null,
   "metadata": {},
   "outputs": [],
   "source": []
  }
 ],
 "metadata": {
  "kernelspec": {
   "name": "python383jvsc74a57bd0067485f78782b1842b8000df3edc7ff0da6075b40c4ef6b239b4438569e5e362",
   "display_name": "Python 3.8.3 64-bit ('base': conda)"
  },
  "language_info": {
   "codemirror_mode": {
    "name": "ipython",
    "version": 3
   },
   "file_extension": ".py",
   "mimetype": "text/x-python",
   "name": "python",
   "nbconvert_exporter": "python",
   "pygments_lexer": "ipython3",
   "version": "3.8.3"
  },
  "metadata": {
   "interpreter": {
    "hash": "067485f78782b1842b8000df3edc7ff0da6075b40c4ef6b239b4438569e5e362"
   }
  }
 },
 "nbformat": 4,
 "nbformat_minor": 4
}